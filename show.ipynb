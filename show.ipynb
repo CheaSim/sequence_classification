{
 "metadata": {
  "language_info": {
   "codemirror_mode": {
    "name": "ipython",
    "version": 3
   },
   "file_extension": ".py",
   "mimetype": "text/x-python",
   "name": "python",
   "nbconvert_exporter": "python",
   "pygments_lexer": "ipython3",
   "version": "3.8.5-final"
  },
  "orig_nbformat": 2,
  "kernelspec": {
   "name": "python38564bitpy38condab15c8747e0824cd591cd17638e4a6d05",
   "display_name": "Python 3.8.5 64-bit ('py38': conda)",
   "language": "python"
  }
 },
 "nbformat": 4,
 "nbformat_minor": 2,
 "cells": [
  {
   "cell_type": "code",
   "execution_count": 1,
   "metadata": {},
   "outputs": [],
   "source": [
    "import pandas as pd\n"
   ]
  },
  {
   "cell_type": "code",
   "execution_count": 6,
   "metadata": {},
   "outputs": [],
   "source": [
    "file_path = \"./data/train.tsv\"\n",
    "train = pd.read_csv(file_path, sep='\\t')"
   ]
  },
  {
   "cell_type": "code",
   "execution_count": 8,
   "metadata": {},
   "outputs": [
    {
     "output_type": "execute_result",
     "data": {
      "text/plain": [
       "               label\n",
       "count  707949.000000\n",
       "mean        0.100490\n",
       "std         0.300653\n",
       "min         0.000000\n",
       "25%         0.000000\n",
       "50%         0.000000\n",
       "75%         0.000000\n",
       "max         1.000000"
      ],
      "text/html": "<div>\n<style scoped>\n    .dataframe tbody tr th:only-of-type {\n        vertical-align: middle;\n    }\n\n    .dataframe tbody tr th {\n        vertical-align: top;\n    }\n\n    .dataframe thead th {\n        text-align: right;\n    }\n</style>\n<table border=\"1\" class=\"dataframe\">\n  <thead>\n    <tr style=\"text-align: right;\">\n      <th></th>\n      <th>label</th>\n    </tr>\n  </thead>\n  <tbody>\n    <tr>\n      <th>count</th>\n      <td>707949.000000</td>\n    </tr>\n    <tr>\n      <th>mean</th>\n      <td>0.100490</td>\n    </tr>\n    <tr>\n      <th>std</th>\n      <td>0.300653</td>\n    </tr>\n    <tr>\n      <th>min</th>\n      <td>0.000000</td>\n    </tr>\n    <tr>\n      <th>25%</th>\n      <td>0.000000</td>\n    </tr>\n    <tr>\n      <th>50%</th>\n      <td>0.000000</td>\n    </tr>\n    <tr>\n      <th>75%</th>\n      <td>0.000000</td>\n    </tr>\n    <tr>\n      <th>max</th>\n      <td>1.000000</td>\n    </tr>\n  </tbody>\n</table>\n</div>"
     },
     "metadata": {},
     "execution_count": 8
    }
   ],
   "source": [
    "train.describe()"
   ]
  },
  {
   "cell_type": "code",
   "execution_count": 9,
   "metadata": {},
   "outputs": [
    {
     "output_type": "execute_result",
     "data": {
      "text/plain": [
       "                                            sentence  label\n",
       "0  昭君缘欢迎您 昭君缘（农家乐）欢迎您的光临。农家特色、内设雅座、价格合理、卫生清洁、免费Wi...      1\n",
       "1                                 只要参加就有200元现金+5箱冬瓜茶      0\n",
       "2                        我的首页现在有xx%的微博都是因为台风飞机gg转战高铁      0\n",
       "3                                  或者搜索“XINHUAWECAN”      0\n",
       "4                                       不要看见真相连端倪都不要      0"
      ],
      "text/html": "<div>\n<style scoped>\n    .dataframe tbody tr th:only-of-type {\n        vertical-align: middle;\n    }\n\n    .dataframe tbody tr th {\n        vertical-align: top;\n    }\n\n    .dataframe thead th {\n        text-align: right;\n    }\n</style>\n<table border=\"1\" class=\"dataframe\">\n  <thead>\n    <tr style=\"text-align: right;\">\n      <th></th>\n      <th>sentence</th>\n      <th>label</th>\n    </tr>\n  </thead>\n  <tbody>\n    <tr>\n      <th>0</th>\n      <td>昭君缘欢迎您 昭君缘（农家乐）欢迎您的光临。农家特色、内设雅座、价格合理、卫生清洁、免费Wi...</td>\n      <td>1</td>\n    </tr>\n    <tr>\n      <th>1</th>\n      <td>只要参加就有200元现金+5箱冬瓜茶</td>\n      <td>0</td>\n    </tr>\n    <tr>\n      <th>2</th>\n      <td>我的首页现在有xx%的微博都是因为台风飞机gg转战高铁</td>\n      <td>0</td>\n    </tr>\n    <tr>\n      <th>3</th>\n      <td>或者搜索“XINHUAWECAN”</td>\n      <td>0</td>\n    </tr>\n    <tr>\n      <th>4</th>\n      <td>不要看见真相连端倪都不要</td>\n      <td>0</td>\n    </tr>\n  </tbody>\n</table>\n</div>"
     },
     "metadata": {},
     "execution_count": 9
    }
   ],
   "source": [
    "train.head()"
   ]
  },
  {
   "cell_type": "code",
   "execution_count": null,
   "metadata": {},
   "outputs": [],
   "source": []
  }
 ]
}